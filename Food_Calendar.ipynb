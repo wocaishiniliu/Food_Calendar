{
 "cells": [
  {
   "cell_type": "code",
   "execution_count": 50,
   "id": "9cf1448d",
   "metadata": {
    "ExecuteTime": {
     "end_time": "2023-02-02T02:16:12.769133Z",
     "start_time": "2023-02-02T02:16:12.754134Z"
    }
   },
   "outputs": [],
   "source": [
    "\"\"\"\n",
    "获取网络节日日历数据，构建苹果日历数据\n",
    "from url: https://www.rili.com.cn/jieridaquan/\n",
    "to: calendar_{year}_jr.ics\n",
    "\"\"\"\n",
    "\n",
    "import re\n",
    "# import httpx\n",
    "# from faker import Faker\n",
    "from lxml import etree\n",
    "import random\n",
    "import pandas as pd\n",
    "import datetime\n",
    "import time\n",
    "from time import strftime\n",
    "import random"
   ]
  },
  {
   "cell_type": "code",
   "execution_count": 51,
   "id": "43ec04f5",
   "metadata": {
    "ExecuteTime": {
     "end_time": "2023-02-02T02:16:18.130616Z",
     "start_time": "2023-02-02T02:16:18.110572Z"
    }
   },
   "outputs": [
    {
     "data": {
      "text/plain": [
       "'20230202'"
      ]
     },
     "execution_count": 51,
     "metadata": {},
     "output_type": "execute_result"
    }
   ],
   "source": [
    "now = datetime.datetime.now().strftime('%Y%m%d')\n",
    "now"
   ]
  },
  {
   "cell_type": "code",
   "execution_count": 3,
   "id": "e5356adb",
   "metadata": {
    "ExecuteTime": {
     "end_time": "2023-02-02T01:38:45.284780Z",
     "start_time": "2023-02-02T01:38:45.270780Z"
    },
    "scrolled": true
   },
   "outputs": [],
   "source": [
    "a = datetime.strptime(\"2023/2/2 7:57:40\", '%Y/%m/%d %H:%M:%S').year"
   ]
  },
  {
   "cell_type": "code",
   "execution_count": 4,
   "id": "8b36ddf8",
   "metadata": {
    "ExecuteTime": {
     "end_time": "2023-02-02T01:38:45.299973Z",
     "start_time": "2023-02-02T01:38:45.285780Z"
    }
   },
   "outputs": [
    {
     "data": {
      "text/plain": [
       "int"
      ]
     },
     "execution_count": 4,
     "metadata": {},
     "output_type": "execute_result"
    }
   ],
   "source": [
    "type(a)"
   ]
  },
  {
   "cell_type": "markdown",
   "id": "f3f9720f",
   "metadata": {},
   "source": [
    "## hearder"
   ]
  },
  {
   "cell_type": "code",
   "execution_count": 5,
   "id": "3bd76c7d",
   "metadata": {
    "ExecuteTime": {
     "end_time": "2023-02-02T01:38:45.315977Z",
     "start_time": "2023-02-02T01:38:45.300973Z"
    }
   },
   "outputs": [],
   "source": [
    "def set_ics_header(week:int):\n",
    "    return \"BEGIN:VCALENDAR\\n\" \\\n",
    "           + \"PRODID:NULL\\n\" \\\n",
    "           + \"VERSION:2.0\\n\" \\\n",
    "           + \"CALSCALE:GREGORIAN\\n\" \\\n",
    "           + \"METHOD:PUBLISH\\n\" \\\n",
    "           + f\"X-WR-CALNAME:{week}周菜单\\n\" \\\n",
    "           + \"X-WR-TIMEZONE:Asia/Shanghai\\n\" \\\n",
    "           + f\"X-WR-CALDESC:{week}周菜单\\n\" \\\n",
    "           + \"BEGIN:VTIMEZONE\\n\" \\\n",
    "           + \"TZID:Asia/Shanghai\\n\" \\\n",
    "           + \"X-LIC-LOCATION:Asia/Shanghai\\n\" \\\n",
    "           + \"BEGIN:STANDARD\\n\" \\\n",
    "           + \"TZOFFSETFROM:+0800\\n\" \\\n",
    "           + \"TZOFFSETTO:+0800\\n\" \\\n",
    "           + \"TZNAME:CST\\n\" \\\n",
    "           + \"DTSTART:19700101T000000\\n\" \\\n",
    "           + \"END:STANDARD\\n\" \\\n",
    "           + \"END:VTIMEZONE\\n\""
   ]
  },
  {
   "cell_type": "markdown",
   "id": "5afec19f",
   "metadata": {},
   "source": [
    "## event"
   ]
  },
  {
   "cell_type": "code",
   "execution_count": 6,
   "id": "e517a189",
   "metadata": {
    "ExecuteTime": {
     "end_time": "2023-02-02T01:38:45.331977Z",
     "start_time": "2023-02-02T01:38:45.316974Z"
    }
   },
   "outputs": [],
   "source": [
    "def set_jr_ics(food, date):  # food: 今天菜单，date：日期\n",
    "    return \"BEGIN:VEVENT\\n\" \\\n",
    "           + f\"DTSTART;VALUE=DATE:{date}\\n\" \\\n",
    "           + f\"DTEND;VALUE=DATE:{date}\\n\" \\\n",
    "           + f\"DTSTAMP:{date}T000001\\n\" \\\n",
    "           + f\"UID:{date}T000001\\n\" \\\n",
    "           + f\"CREATED:{date}T000001\\n\" \\\n",
    "           + f\"DESCRIPTION:{food}\\n\" \\\n",
    "           + f\"LAST-MODIFIED:{date}\\n\" \\\n",
    "           + \"SEQUENCE:0\\n\" \\\n",
    "           + \"STATUS:CONFIRMED\\n\" \\\n",
    "           + f\"SUMMARY:{food}\\n\" \\\n",
    "           + \"TRANSP:TRANSPARENT\\n\" \\\n",
    "           + \"END:VEVENT\\n\""
   ]
  },
  {
   "cell_type": "markdown",
   "id": "3e246110",
   "metadata": {},
   "source": [
    "## food"
   ]
  },
  {
   "cell_type": "code",
   "execution_count": 7,
   "id": "4924b496",
   "metadata": {
    "ExecuteTime": {
     "end_time": "2023-02-02T01:38:45.347977Z",
     "start_time": "2023-02-02T01:38:45.332974Z"
    }
   },
   "outputs": [],
   "source": [
    "with open(\"meat.txt\",encoding=\"utf-8\") as m, open(\"vegetable.txt\",encoding=\"utf-8\") as v:\n",
    "    meat_dishes = m.readlines()\n",
    "    vegetable_dished = v.readlines()"
   ]
  },
  {
   "cell_type": "code",
   "execution_count": 8,
   "id": "ea96d383",
   "metadata": {
    "ExecuteTime": {
     "end_time": "2023-02-02T01:38:45.363973Z",
     "start_time": "2023-02-02T01:38:45.348974Z"
    },
    "collapsed": true
   },
   "outputs": [
    {
     "data": {
      "text/plain": [
       "(['宫保鸡丁\\n',\n",
       "  '黑椒牛柳\\n',\n",
       "  '尖椒炒牛肉\\n',\n",
       "  '酱牛肉\\n',\n",
       "  '可乐鸡翅\\n',\n",
       "  '萝卜炖羊排\\n',\n",
       "  '麻辣香锅虾\\n',\n",
       "  '青椒土豆炒肉\\n',\n",
       "  '水煮牛肉\\n',\n",
       "  '糖醋里脊\\n',\n",
       "  '西红柿土豆炖牛肉\\n',\n",
       "  '香干芹菜炒肉\\n',\n",
       "  '小炒黄牛肉\\n',\n",
       "  '鱼香肉丝\\n',\n",
       "  '孜然牛肉\\n',\n",
       "  '孜然羊肉\\n',\n",
       "  '白灼虾\\n',\n",
       "  '鳊鱼炖豆腐\\n',\n",
       "  '油焖大虾\\n',\n",
       "  '干锅虾\\n',\n",
       "  '红烧鱼\\n',\n",
       "  '清蒸鱼\\n',\n",
       "  '酸菜鱼\\n',\n",
       "  '蒜蓉虾\\n',\n",
       "  '糖醋鱼'],\n",
       " ['白灼菜心\\n',\n",
       "  '白灼生菜\\n',\n",
       "  '炒滑蛋\\n',\n",
       "  '炒茄子\\n',\n",
       "  '炒青菜\\n',\n",
       "  '葱煎豆腐\\n',\n",
       "  '干锅花菜\\n',\n",
       "  '蚝油三鲜菇\\n',\n",
       "  '蚝油生菜\\n',\n",
       "  '冬瓜虾皮\\n',\n",
       "  '红烧茄子\\n',\n",
       "  '鸡蛋羹\\n',\n",
       "  '鸡蛋炒黄瓜\\n',\n",
       "  '茭白炒肉\\n',\n",
       "  '萝卜炒肉\\n',\n",
       "  '金针菇日本豆腐煲\\n',\n",
       "  '榄菜肉末四季豆\\n',\n",
       "  '橄榄菜炒豆角\\n',\n",
       "  '凉拌黄瓜木耳\\n',\n",
       "  '凉拌莴笋\\n',\n",
       "  '凉拌油麦菜\\n',\n",
       "  '麻婆豆腐\\n',\n",
       "  '上汤娃娃菜\\n',\n",
       "  '手撕包菜\\n',\n",
       "  '酸辣土豆丝\\n',\n",
       "  '糖拌西红柿\\n',\n",
       "  '西红柿炒鸡蛋\\n',\n",
       "  '西红柿烩豆腐\\n',\n",
       "  '西红柿炒豆腐鸡蛋\\n',\n",
       "  '菠菜平菇炒鸡蛋\\n',\n",
       "  '五香花生\\n',\n",
       "  '蒜蓉小青菜（白菜）\\n',\n",
       "  '熬菜'])"
      ]
     },
     "execution_count": 8,
     "metadata": {},
     "output_type": "execute_result"
    }
   ],
   "source": [
    "meat_dishes,vegetable_dished"
   ]
  },
  {
   "cell_type": "code",
   "execution_count": 20,
   "id": "a25f980b",
   "metadata": {
    "ExecuteTime": {
     "end_time": "2023-02-02T01:45:06.104155Z",
     "start_time": "2023-02-02T01:45:06.098142Z"
    }
   },
   "outputs": [],
   "source": [
    "a = random.choice(vegetable_dished)"
   ]
  },
  {
   "cell_type": "code",
   "execution_count": 41,
   "id": "3cff76c9",
   "metadata": {
    "ExecuteTime": {
     "end_time": "2023-02-02T02:08:53.844376Z",
     "start_time": "2023-02-02T02:08:53.838373Z"
    }
   },
   "outputs": [],
   "source": [
    "def today(seed=0):\n",
    "    lunch = \"午餐:\"\n",
    "    dinner = \"晚餐:\"\n",
    "    lunch_v = random.choice(vegetable_dished).rstrip(\"\\n\")\n",
    "    dinner_v = random.choice(vegetable_dished).rstrip(\"\\n\")\n",
    "    lunch_m = random.choice(meat_dishes).rstrip(\"\\n\")\n",
    "    dinner_m = random.choice(meat_dishes).rstrip(\"\\n\")\n",
    "    return lunch+lunch_v+\",\"+lunch_m+dinner+dinner_v+\",\"+dinner_m"
   ]
  },
  {
   "cell_type": "code",
   "execution_count": 42,
   "id": "a740d84a",
   "metadata": {
    "ExecuteTime": {
     "end_time": "2023-02-02T02:08:54.729588Z",
     "start_time": "2023-02-02T02:08:54.719588Z"
    }
   },
   "outputs": [
    {
     "data": {
      "text/plain": [
       "'午餐:橄榄菜炒豆角,酱牛肉晚餐:上汤娃娃菜,红烧鱼'"
      ]
     },
     "execution_count": 42,
     "metadata": {},
     "output_type": "execute_result"
    }
   ],
   "source": [
    "today()"
   ]
  },
  {
   "cell_type": "code",
   "execution_count": null,
   "id": "1f29bd20",
   "metadata": {},
   "outputs": [],
   "source": [
    "def generate_week_date(now):\n",
    "    jr, dt = text.split('[')\n",
    "    dt = f'{y}年' + re.search(r'\\d{1,2}月\\d{1,2}日', dt).group()\n",
    "    dt = datetime.strptime(dt, '%Y年%m月%d日').strftime('%Y%m%d')\n",
    "    return jr, dt"
   ]
  },
  {
   "cell_type": "code",
   "execution_count": 61,
   "id": "58e8cbc9",
   "metadata": {
    "ExecuteTime": {
     "end_time": "2023-02-02T02:18:58.601011Z",
     "start_time": "2023-02-02T02:18:58.589995Z"
    }
   },
   "outputs": [],
   "source": [
    "def concat_ics(week):  # 返回一个完整的ics文件内容\n",
    "    header = set_ics_header(week)\n",
    "#     jr_rq = list(map(parse_jr_date, jr, [y] * len(jr)))\n",
    "#     # 将同一天的节日进行编号\n",
    "#     jr_rq.sort(key=lambda x: x[1])\n",
    "#     pre_num = 0\n",
    "#     for num in range(len(jr_rq)):\n",
    "#         if jr_rq[num][1] != jr_rq[pre_num][1]:\n",
    "#             pre_num = num\n",
    "#         jr_rq[num] += (num - pre_num + 1,)\n",
    "#     jr_ics = ''.join(map(lambda x: set_jr_ics(food), jr_rq))\n",
    "    jr_list = []\n",
    "    for i in range(30):\n",
    "        jr_ics = set_jr_ics(today(),(datetime.datetime.now()+datetime.timedelta(days=i)).strftime('%Y%m%d'))\n",
    "        jr_list.append(jr_ics)\n",
    "    resc = ''.join(jr_list)\n",
    "    return header + resc + 'END:VCALENDAR'"
   ]
  },
  {
   "cell_type": "code",
   "execution_count": 62,
   "id": "2cfcbf5b",
   "metadata": {
    "ExecuteTime": {
     "end_time": "2023-02-02T02:18:58.742130Z",
     "start_time": "2023-02-02T02:18:58.734130Z"
    }
   },
   "outputs": [],
   "source": [
    "def save_ics(fname, text):\n",
    "    with open(fname, 'w', encoding='utf-8') as f:\n",
    "        f.write(text)"
   ]
  },
  {
   "cell_type": "code",
   "execution_count": 63,
   "id": "710126d7",
   "metadata": {
    "ExecuteTime": {
     "end_time": "2023-02-02T02:18:58.897286Z",
     "start_time": "2023-02-02T02:18:58.891266Z"
    },
    "scrolled": true
   },
   "outputs": [],
   "source": [
    "res = concat_ics(1)\n",
    "filename = f'calendar_{week}.ics'\n",
    "save_ics(filename, res)"
   ]
  },
  {
   "cell_type": "code",
   "execution_count": null,
   "id": "5c9468d6",
   "metadata": {},
   "outputs": [],
   "source": []
  }
 ],
 "metadata": {
  "hide_input": false,
  "kernelspec": {
   "display_name": "Python 3 (ipykernel)",
   "language": "python",
   "name": "python3"
  },
  "language_info": {
   "codemirror_mode": {
    "name": "ipython",
    "version": 3
   },
   "file_extension": ".py",
   "mimetype": "text/x-python",
   "name": "python",
   "nbconvert_exporter": "python",
   "pygments_lexer": "ipython3",
   "version": "3.9.7"
  },
  "latex_envs": {
   "LaTeX_envs_menu_present": true,
   "autoclose": false,
   "autocomplete": true,
   "bibliofile": "biblio.bib",
   "cite_by": "apalike",
   "current_citInitial": 1,
   "eqLabelWithNumbers": true,
   "eqNumInitial": 1,
   "hotkeys": {
    "equation": "Ctrl-E",
    "itemize": "Ctrl-I"
   },
   "labels_anchors": false,
   "latex_user_defs": false,
   "report_style_numbering": false,
   "user_envs_cfg": false
  },
  "toc": {
   "base_numbering": 1,
   "nav_menu": {},
   "number_sections": true,
   "sideBar": true,
   "skip_h1_title": false,
   "title_cell": "Table of Contents",
   "title_sidebar": "Contents",
   "toc_cell": false,
   "toc_position": {},
   "toc_section_display": true,
   "toc_window_display": false
  }
 },
 "nbformat": 4,
 "nbformat_minor": 5
}
